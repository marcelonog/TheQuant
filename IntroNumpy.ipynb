{
 "cells": [
  {
   "cell_type": "code",
   "execution_count": 1,
   "id": "25f757e0",
   "metadata": {},
   "outputs": [],
   "source": [
    "import numpy as np"
   ]
  },
  {
   "cell_type": "code",
   "execution_count": 4,
   "id": "4409a144",
   "metadata": {},
   "outputs": [
    {
     "name": "stdout",
     "output_type": "stream",
     "text": [
      "Arreglo 1D: [1 2 3 4 5 6]\n",
      "Forma(shape): (6,)\n",
      "Tipos de datos (dtype): int64\n"
     ]
    }
   ],
   "source": [
    "# Crear arreglo de 1 dimension con 5 elementos\n",
    "arr1 = np.array([1,2,3,4,5,6])\n",
    "print('Arreglo 1D:', arr1)\n",
    "print('Forma(shape):',arr1.shape)\n",
    "print('Tipos de datos (dtype):', arr1.dtype)"
   ]
  },
  {
   "cell_type": "code",
   "execution_count": 5,
   "id": "db55d803",
   "metadata": {},
   "outputs": [
    {
     "name": "stdout",
     "output_type": "stream",
     "text": [
      "Arreglo 2D:\n",
      " [[1 2 3]\n",
      " [4 5 6]]\n",
      "Forma(shape): (2, 3)\n",
      "Tipos de datos (dtype): int64\n"
     ]
    }
   ],
   "source": [
    "# Cambiar la forma del arreglo a una matriz de 2x3\n",
    "arr2 = arr1.reshape((2,3))\n",
    "print('Arreglo 2D:\\n', arr2)\n",
    "print('Forma(shape):',arr2.shape)\n",
    "print('Tipos de datos (dtype):', arr2.dtype)"
   ]
  },
  {
   "cell_type": "code",
   "execution_count": 6,
   "id": "d0f1712f",
   "metadata": {},
   "outputs": [
    {
     "name": "stdout",
     "output_type": "stream",
     "text": [
      "Arreglo 4D:\n",
      " [[0.89164778 0.97688957 0.17666809 0.69178123]\n",
      " [0.08879268 0.57853041 0.37822428 0.04002377]\n",
      " [0.6761839  0.37815221 0.35690844 0.79250173]\n",
      " [0.14961592 0.18345476 0.41016544 0.49615012]]\n",
      "Forma(shape): (4, 4)\n",
      "Tipos de datos (dtype): float64\n"
     ]
    }
   ],
   "source": [
    "# Crear una matriz con forma (4,4) con numeros aleatorios ente 0 y 1\n",
    "matrix = np.random.rand(4,4)\n",
    "print('Arreglo 4D:\\n', matrix)\n",
    "print('Forma(shape):',matrix.shape)\n",
    "print('Tipos de datos (dtype):', matrix.dtype)"
   ]
  },
  {
   "cell_type": "code",
   "execution_count": 7,
   "id": "dbfb0ab3",
   "metadata": {},
   "outputs": [
    {
     "name": "stdout",
     "output_type": "stream",
     "text": [
      "[-1.41421356 -0.70710678  0.          0.70710678  1.41421356]\n"
     ]
    }
   ],
   "source": [
    "data = np.array([10, 20, 30, 40, 50])\n",
    "\n",
    "# Calcula la media y la desviación estándar\n",
    "mean = np.mean(data)\n",
    "std = np.std(data)\n",
    "\n",
    "# Aplica la normalización Z-score\n",
    "normalized_data = (data - mean) / std\n",
    "\n",
    "print(normalized_data)"
   ]
  },
  {
   "cell_type": "code",
   "execution_count": null,
   "id": "a4727447",
   "metadata": {},
   "outputs": [],
   "source": []
  }
 ],
 "metadata": {
  "kernelspec": {
   "display_name": "Python 3 (ipykernel)",
   "language": "python",
   "name": "python3"
  },
  "language_info": {
   "codemirror_mode": {
    "name": "ipython",
    "version": 3
   },
   "file_extension": ".py",
   "mimetype": "text/x-python",
   "name": "python",
   "nbconvert_exporter": "python",
   "pygments_lexer": "ipython3",
   "version": "3.9.12"
  }
 },
 "nbformat": 4,
 "nbformat_minor": 5
}
